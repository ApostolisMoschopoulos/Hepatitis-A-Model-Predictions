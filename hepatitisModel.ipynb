{
  "nbformat": 4,
  "nbformat_minor": 0,
  "metadata": {
    "colab": {
      "name": "hepatitisModel.ipynb",
      "provenance": [],
      "collapsed_sections": [],
      "toc_visible": true,
      "mount_file_id": "1TYIQAv4dIylmrAbnyc3XPnuAXsxujetq",
      "authorship_tag": "ABX9TyN+KAuNsmPAb3kSbcpHHeG7",
      "include_colab_link": true
    },
    "kernelspec": {
      "name": "python3",
      "display_name": "Python 3"
    },
    "language_info": {
      "name": "python"
    }
  },
  "cells": [
    {
      "cell_type": "markdown",
      "metadata": {
        "id": "view-in-github",
        "colab_type": "text"
      },
      "source": [
        "<a href=\"https://colab.research.google.com/github/ApostolisMoschopoulos/Hepatitis-A-Model-Predictions/blob/main/hepatitisModel.ipynb\" target=\"_parent\"><img src=\"https://colab.research.google.com/assets/colab-badge.svg\" alt=\"Open In Colab\"/></a>"
      ]
    },
    {
      "cell_type": "markdown",
      "metadata": {
        "id": "2XbV5aDCtaEk"
      },
      "source": [
        " Στόχος της παρούσας εργασίας είναι η επιτυχής πρόβλεψη εαν ένα άτομο πάσχει με ηπατίτιδα. Να σημειωθεί ότι στη παρούσα εργασία με την χρήση του όρου \"Ηπατίτιδα\" θα εννοείται η Ηπατίτιδα Α. Το data set που χρησιμοποιήθηκε για την εκπόνηση της παρούσας εργασίας μπορεί να διατεθεί στο: https://datahub.io/machine-learning/hepatitis"
      ]
    },
    {
      "cell_type": "code",
      "metadata": {
        "id": "yKvWU-zxY9Nb",
        "colab": {
          "base_uri": "https://localhost:8080/"
        },
        "outputId": "7a60fd47-eb52-42a7-f8e9-94114e230f86"
      },
      "source": [
        "from google.colab import drive\n",
        "drive.mount('/content/drive')"
      ],
      "execution_count": null,
      "outputs": [
        {
          "output_type": "stream",
          "text": [
            "Drive already mounted at /content/drive; to attempt to forcibly remount, call drive.mount(\"/content/drive\", force_remount=True).\n"
          ],
          "name": "stdout"
        }
      ]
    },
    {
      "cell_type": "markdown",
      "metadata": {
        "id": "bfVuBZs6xkiX"
      },
      "source": [
        "# Importing Libraries"
      ]
    },
    {
      "cell_type": "code",
      "metadata": {
        "colab": {
          "base_uri": "https://localhost:8080/"
        },
        "id": "XI2KlYj6upBn",
        "outputId": "51aab1ff-61ca-4843-c669-262274313220"
      },
      "source": [
        "import os\n",
        "import tensorflow as tf\n",
        "\n",
        "import numpy as np\n",
        "import matplotlib.pyplot as plt\n",
        "\n",
        "\n",
        "\n",
        "print(\"Using TensorFlow version %s\" % tf.__version__)\n"
      ],
      "execution_count": null,
      "outputs": [
        {
          "output_type": "stream",
          "text": [
            "Using TensorFlow version 2.4.1\n"
          ],
          "name": "stdout"
        }
      ]
    },
    {
      "cell_type": "markdown",
      "metadata": {
        "id": "pv6LQqwAxcpZ"
      },
      "source": [
        "# Importing data set"
      ]
    },
    {
      "cell_type": "markdown",
      "metadata": {
        "id": "28XEbxj3xvtj"
      },
      "source": [
        "  Εισάγουμε το data set με βάση το οποίο θα εκπαιδεύσουμε το μοντέλο μας."
      ]
    },
    {
      "cell_type": "code",
      "metadata": {
        "id": "g52reGRRxvSo"
      },
      "source": [
        "from scipy import stats\n",
        "\n",
        "import seaborn as sns; sns.set()\n",
        "import pandas as pd\n",
        "\n",
        "df = pd.read_csv(\"/content/drive/MyDrive/Νευρωνικά δίκτυα εργασία 2/hepatitis.data\")"
      ],
      "execution_count": null,
      "outputs": []
    },
    {
      "cell_type": "code",
      "metadata": {
        "colab": {
          "base_uri": "https://localhost:8080/",
          "height": 190
        },
        "id": "J2A3DEpad4y_",
        "outputId": "dfcc236b-d471-4a87-b4a5-4c3f6ace747a"
      },
      "source": [
        "print(df.shape)\n",
        "df.head(4)"
      ],
      "execution_count": null,
      "outputs": [
        {
          "output_type": "stream",
          "text": [
            "(154, 20)\n"
          ],
          "name": "stdout"
        },
        {
          "output_type": "execute_result",
          "data": {
            "text/html": [
              "<div>\n",
              "<style scoped>\n",
              "    .dataframe tbody tr th:only-of-type {\n",
              "        vertical-align: middle;\n",
              "    }\n",
              "\n",
              "    .dataframe tbody tr th {\n",
              "        vertical-align: top;\n",
              "    }\n",
              "\n",
              "    .dataframe thead th {\n",
              "        text-align: right;\n",
              "    }\n",
              "</style>\n",
              "<table border=\"1\" class=\"dataframe\">\n",
              "  <thead>\n",
              "    <tr style=\"text-align: right;\">\n",
              "      <th></th>\n",
              "      <th>2</th>\n",
              "      <th>30</th>\n",
              "      <th>2.1</th>\n",
              "      <th>1</th>\n",
              "      <th>2.2</th>\n",
              "      <th>2.3</th>\n",
              "      <th>2.4</th>\n",
              "      <th>2.5</th>\n",
              "      <th>1.1</th>\n",
              "      <th>2.6</th>\n",
              "      <th>2.7</th>\n",
              "      <th>2.8</th>\n",
              "      <th>2.9</th>\n",
              "      <th>2.10</th>\n",
              "      <th>1.00</th>\n",
              "      <th>85</th>\n",
              "      <th>18</th>\n",
              "      <th>4.0</th>\n",
              "      <th>?</th>\n",
              "      <th>1.2</th>\n",
              "    </tr>\n",
              "  </thead>\n",
              "  <tbody>\n",
              "    <tr>\n",
              "      <th>0</th>\n",
              "      <td>2</td>\n",
              "      <td>50</td>\n",
              "      <td>1</td>\n",
              "      <td>1</td>\n",
              "      <td>2</td>\n",
              "      <td>1</td>\n",
              "      <td>2</td>\n",
              "      <td>2</td>\n",
              "      <td>1</td>\n",
              "      <td>2</td>\n",
              "      <td>2</td>\n",
              "      <td>2</td>\n",
              "      <td>2</td>\n",
              "      <td>2</td>\n",
              "      <td>0.90</td>\n",
              "      <td>135</td>\n",
              "      <td>42</td>\n",
              "      <td>3.5</td>\n",
              "      <td>?</td>\n",
              "      <td>1</td>\n",
              "    </tr>\n",
              "    <tr>\n",
              "      <th>1</th>\n",
              "      <td>2</td>\n",
              "      <td>78</td>\n",
              "      <td>1</td>\n",
              "      <td>2</td>\n",
              "      <td>2</td>\n",
              "      <td>1</td>\n",
              "      <td>2</td>\n",
              "      <td>2</td>\n",
              "      <td>2</td>\n",
              "      <td>2</td>\n",
              "      <td>2</td>\n",
              "      <td>2</td>\n",
              "      <td>2</td>\n",
              "      <td>2</td>\n",
              "      <td>0.70</td>\n",
              "      <td>96</td>\n",
              "      <td>32</td>\n",
              "      <td>4.0</td>\n",
              "      <td>?</td>\n",
              "      <td>1</td>\n",
              "    </tr>\n",
              "    <tr>\n",
              "      <th>2</th>\n",
              "      <td>2</td>\n",
              "      <td>31</td>\n",
              "      <td>1</td>\n",
              "      <td>?</td>\n",
              "      <td>1</td>\n",
              "      <td>2</td>\n",
              "      <td>2</td>\n",
              "      <td>2</td>\n",
              "      <td>2</td>\n",
              "      <td>2</td>\n",
              "      <td>2</td>\n",
              "      <td>2</td>\n",
              "      <td>2</td>\n",
              "      <td>2</td>\n",
              "      <td>0.70</td>\n",
              "      <td>46</td>\n",
              "      <td>52</td>\n",
              "      <td>4.0</td>\n",
              "      <td>80</td>\n",
              "      <td>1</td>\n",
              "    </tr>\n",
              "    <tr>\n",
              "      <th>3</th>\n",
              "      <td>2</td>\n",
              "      <td>34</td>\n",
              "      <td>1</td>\n",
              "      <td>2</td>\n",
              "      <td>2</td>\n",
              "      <td>2</td>\n",
              "      <td>2</td>\n",
              "      <td>2</td>\n",
              "      <td>2</td>\n",
              "      <td>2</td>\n",
              "      <td>2</td>\n",
              "      <td>2</td>\n",
              "      <td>2</td>\n",
              "      <td>2</td>\n",
              "      <td>1.00</td>\n",
              "      <td>?</td>\n",
              "      <td>200</td>\n",
              "      <td>4.0</td>\n",
              "      <td>?</td>\n",
              "      <td>1</td>\n",
              "    </tr>\n",
              "  </tbody>\n",
              "</table>\n",
              "</div>"
            ],
            "text/plain": [
              "   2  30  2.1  1  2.2 2.3 2.4 2.5  ... 2.9 2.10  1.00   85   18  4.0   ? 1.2\n",
              "0  2  50    1  1    2   1   2   2  ...   2    2  0.90  135   42  3.5   ?   1\n",
              "1  2  78    1  2    2   1   2   2  ...   2    2  0.70   96   32  4.0   ?   1\n",
              "2  2  31    1  ?    1   2   2   2  ...   2    2  0.70   46   52  4.0  80   1\n",
              "3  2  34    1  2    2   2   2   2  ...   2    2  1.00    ?  200  4.0   ?   1\n",
              "\n",
              "[4 rows x 20 columns]"
            ]
          },
          "metadata": {
            "tags": []
          },
          "execution_count": 4
        }
      ]
    },
    {
      "cell_type": "markdown",
      "metadata": {
        "id": "jJzdDGbogxqt"
      },
      "source": [
        "Βάζουμε σαν στήλες τα χαρακτηριστικά (attributes) του συνόλου δεδομένων μας. Σημείωση: σαν SGOT εννοείται ο όρος Serum glutamic oxaloacetic transaminase (ένζυμο που εκκρίνεται στο αίμα όταν υπάρχει ζημιά στην καρδιά ή στο Ήπαρ)."
      ]
    },
    {
      "cell_type": "code",
      "metadata": {
        "colab": {
          "base_uri": "https://localhost:8080/",
          "height": 221
        },
        "id": "FvcVyxGofN6M",
        "outputId": "64fa55b2-5fd5-4d08-bb90-d51afa7813ab"
      },
      "source": [
        "colNames = ['Class','Age', 'Sex', 'Steroid', 'Antivirals', 'Fatigue', 'Malaise', \n",
        "               'Anorexia', 'Liver big', 'Liver firm', 'Spleen palpable', 'Spiders',\n",
        "               'Ascites', 'Varices', 'Bilirubin', 'Alkaline Phosphatase(ALP)',\n",
        "               'SGOT', 'Albumin', 'Prothrombin time', 'Histology' ]\n",
        "        \n",
        "df = pd.read_csv(\"/content/drive/MyDrive/Νευρωνικά δίκτυα εργασία 2/hepatitis.data\",names=colNames)\n",
        "df.head(5)"
      ],
      "execution_count": null,
      "outputs": [
        {
          "output_type": "execute_result",
          "data": {
            "text/html": [
              "<div>\n",
              "<style scoped>\n",
              "    .dataframe tbody tr th:only-of-type {\n",
              "        vertical-align: middle;\n",
              "    }\n",
              "\n",
              "    .dataframe tbody tr th {\n",
              "        vertical-align: top;\n",
              "    }\n",
              "\n",
              "    .dataframe thead th {\n",
              "        text-align: right;\n",
              "    }\n",
              "</style>\n",
              "<table border=\"1\" class=\"dataframe\">\n",
              "  <thead>\n",
              "    <tr style=\"text-align: right;\">\n",
              "      <th></th>\n",
              "      <th>Class</th>\n",
              "      <th>Age</th>\n",
              "      <th>Sex</th>\n",
              "      <th>Steroid</th>\n",
              "      <th>Antivirals</th>\n",
              "      <th>Fatigue</th>\n",
              "      <th>Malaise</th>\n",
              "      <th>Anorexia</th>\n",
              "      <th>Liver big</th>\n",
              "      <th>Liver firm</th>\n",
              "      <th>Spleen palpable</th>\n",
              "      <th>Spiders</th>\n",
              "      <th>Ascites</th>\n",
              "      <th>Varices</th>\n",
              "      <th>Bilirubin</th>\n",
              "      <th>Alkaline Phosphatase(ALP)</th>\n",
              "      <th>SGOT</th>\n",
              "      <th>Albumin</th>\n",
              "      <th>Prothrombin time</th>\n",
              "      <th>Histology</th>\n",
              "    </tr>\n",
              "  </thead>\n",
              "  <tbody>\n",
              "    <tr>\n",
              "      <th>0</th>\n",
              "      <td>2</td>\n",
              "      <td>30</td>\n",
              "      <td>2</td>\n",
              "      <td>1</td>\n",
              "      <td>2</td>\n",
              "      <td>2</td>\n",
              "      <td>2</td>\n",
              "      <td>2</td>\n",
              "      <td>1</td>\n",
              "      <td>2</td>\n",
              "      <td>2</td>\n",
              "      <td>2</td>\n",
              "      <td>2</td>\n",
              "      <td>2</td>\n",
              "      <td>1.00</td>\n",
              "      <td>85</td>\n",
              "      <td>18</td>\n",
              "      <td>4.0</td>\n",
              "      <td>?</td>\n",
              "      <td>1</td>\n",
              "    </tr>\n",
              "    <tr>\n",
              "      <th>1</th>\n",
              "      <td>2</td>\n",
              "      <td>50</td>\n",
              "      <td>1</td>\n",
              "      <td>1</td>\n",
              "      <td>2</td>\n",
              "      <td>1</td>\n",
              "      <td>2</td>\n",
              "      <td>2</td>\n",
              "      <td>1</td>\n",
              "      <td>2</td>\n",
              "      <td>2</td>\n",
              "      <td>2</td>\n",
              "      <td>2</td>\n",
              "      <td>2</td>\n",
              "      <td>0.90</td>\n",
              "      <td>135</td>\n",
              "      <td>42</td>\n",
              "      <td>3.5</td>\n",
              "      <td>?</td>\n",
              "      <td>1</td>\n",
              "    </tr>\n",
              "    <tr>\n",
              "      <th>2</th>\n",
              "      <td>2</td>\n",
              "      <td>78</td>\n",
              "      <td>1</td>\n",
              "      <td>2</td>\n",
              "      <td>2</td>\n",
              "      <td>1</td>\n",
              "      <td>2</td>\n",
              "      <td>2</td>\n",
              "      <td>2</td>\n",
              "      <td>2</td>\n",
              "      <td>2</td>\n",
              "      <td>2</td>\n",
              "      <td>2</td>\n",
              "      <td>2</td>\n",
              "      <td>0.70</td>\n",
              "      <td>96</td>\n",
              "      <td>32</td>\n",
              "      <td>4.0</td>\n",
              "      <td>?</td>\n",
              "      <td>1</td>\n",
              "    </tr>\n",
              "    <tr>\n",
              "      <th>3</th>\n",
              "      <td>2</td>\n",
              "      <td>31</td>\n",
              "      <td>1</td>\n",
              "      <td>?</td>\n",
              "      <td>1</td>\n",
              "      <td>2</td>\n",
              "      <td>2</td>\n",
              "      <td>2</td>\n",
              "      <td>2</td>\n",
              "      <td>2</td>\n",
              "      <td>2</td>\n",
              "      <td>2</td>\n",
              "      <td>2</td>\n",
              "      <td>2</td>\n",
              "      <td>0.70</td>\n",
              "      <td>46</td>\n",
              "      <td>52</td>\n",
              "      <td>4.0</td>\n",
              "      <td>80</td>\n",
              "      <td>1</td>\n",
              "    </tr>\n",
              "    <tr>\n",
              "      <th>4</th>\n",
              "      <td>2</td>\n",
              "      <td>34</td>\n",
              "      <td>1</td>\n",
              "      <td>2</td>\n",
              "      <td>2</td>\n",
              "      <td>2</td>\n",
              "      <td>2</td>\n",
              "      <td>2</td>\n",
              "      <td>2</td>\n",
              "      <td>2</td>\n",
              "      <td>2</td>\n",
              "      <td>2</td>\n",
              "      <td>2</td>\n",
              "      <td>2</td>\n",
              "      <td>1.00</td>\n",
              "      <td>?</td>\n",
              "      <td>200</td>\n",
              "      <td>4.0</td>\n",
              "      <td>?</td>\n",
              "      <td>1</td>\n",
              "    </tr>\n",
              "  </tbody>\n",
              "</table>\n",
              "</div>"
            ],
            "text/plain": [
              "   Class  Age  Sex Steroid  ...  SGOT Albumin Prothrombin time Histology\n",
              "0      2   30    2       1  ...    18     4.0                ?         1\n",
              "1      2   50    1       1  ...    42     3.5                ?         1\n",
              "2      2   78    1       2  ...    32     4.0                ?         1\n",
              "3      2   31    1       ?  ...    52     4.0               80         1\n",
              "4      2   34    1       2  ...   200     4.0                ?         1\n",
              "\n",
              "[5 rows x 20 columns]"
            ]
          },
          "metadata": {
            "tags": []
          },
          "execution_count": 5
        }
      ]
    },
    {
      "cell_type": "markdown",
      "metadata": {
        "id": "vZu5V1Mrlc8D"
      },
      "source": [
        "Έχουμε φτιάξει τον πίνακα "
      ]
    },
    {
      "cell_type": "code",
      "metadata": {
        "colab": {
          "base_uri": "https://localhost:8080/"
        },
        "id": "yQ__Rra4lmYh",
        "outputId": "a757b92e-291f-4e62-98a6-ff8d5d01b390"
      },
      "source": [
        "print(df['Age'].values)\n",
        "for colName in df.columns:\n",
        "  print(colName)"
      ],
      "execution_count": null,
      "outputs": [
        {
          "output_type": "stream",
          "text": [
            "[30 50 78 31 34 34 51 23 39 30 39 32 41 30 47 38 66 40 38 38 22 27 31 42\n",
            " 25 27 49 58 61 51 39 62 41 26 35 37 23 20 42 65 52 23 33 56 34 28 37 28\n",
            " 36 38 39 39 44 40 30 37 34 30 64 45 37 32 32 36 49 27 56 57 39 44 24 34\n",
            " 51 36 50 32 58 34 34 28 23 36 30 67 62 28 44 30 38 38 50 42 33 52 59 40\n",
            " 30 44 47 60 48 22 27 51 47 25 35 45 54 33  7 42 52 45 36 69 24 50 61 54\n",
            " 56 20 42 37 50 34 28 50 54 57 54 31 48 72 38 25 51 38 47 45 36 54 51 49\n",
            " 45 31 41 70 20 36 46 44 61 53 43]\n",
            "Class\n",
            "Age\n",
            "Sex\n",
            "Steroid\n",
            "Antivirals\n",
            "Fatigue\n",
            "Malaise\n",
            "Anorexia\n",
            "Liver big\n",
            "Liver firm\n",
            "Spleen palpable\n",
            "Spiders\n",
            "Ascites\n",
            "Varices\n",
            "Bilirubin\n",
            "Alkaline Phosphatase(ALP)\n",
            "SGOT\n",
            "Albumin\n",
            "Prothrombin time\n",
            "Histology\n"
          ],
          "name": "stdout"
        }
      ]
    },
    {
      "cell_type": "markdown",
      "metadata": {
        "id": "kSzig1LpDj_u"
      },
      "source": [
        "Επίσης για να έχω καλύτερο έλεγχο των δεδομένων μου θέλω να γνωρίζω τις κατηγορικές και τις αριθμητικές τιμές μου"
      ]
    },
    {
      "cell_type": "code",
      "metadata": {
        "id": "JGFgFeNeDv-l"
      },
      "source": [
        "numericals = ['Age', 'Bilirubin', 'Prothrombin time', 'Albumin', 'Alkaline Phosphatase(ALP)', 'SGOT']\n",
        "categoricals = ['Sex', 'Steroid', 'Antivirals', 'Fatigue', 'Malaise', 'Anorexia', 'Liver big', \n",
        "                'Liver firm', 'Spleen palpable', 'Spiders', 'Ascites', 'Varices', 'Histology']\n"
      ],
      "execution_count": null,
      "outputs": []
    },
    {
      "cell_type": "markdown",
      "metadata": {
        "id": "kfz-Aj5DwIPs"
      },
      "source": [
        "# Data Cleansing"
      ]
    },
    {
      "cell_type": "markdown",
      "metadata": {
        "id": "jV28X7JUwRVe"
      },
      "source": [
        "Τώρα θα συνεχίσουμε σε καθαρισμό των δεδομένων μας. Πιο συγκεκριμένα:\n",
        "\n",
        "*   Θα μετατρέψουμε όλα τα ερωτηματικά σε NaN (not a number)\n",
        "*   Για κάθε numerical attribute θα μετρήσουμε σε πόσα παραδείγματα λείπει. Έαν λείπει σχετικά μεγάλος αριθμός (35%<) τότε θα απορρίψουμε τελείως το χαρακτηριστικό αλλιώς θα βάλουμε σαν μεταβλητή τη **μέση τιμή** των υπολοίπων παραδειγμάτων για το συγκεκριμένο χαρακτηριστικό.\n",
        "*   Για κάθε categorical atrribute, θα αντικαταστήσουμε τις κενές τιμές με την **επικρατέστερη τιμή** των υπολοίπων παραδειγμάτων για το συγκεκριμένο χαρακτηριστικό.\n",
        "\n",
        "\n",
        "\n",
        "\n",
        "\n",
        "\n"
      ]
    },
    {
      "cell_type": "markdown",
      "metadata": {
        "id": "eMXWRrAy63_E"
      },
      "source": [
        "# Μετατροπή σε NaN"
      ]
    },
    {
      "cell_type": "code",
      "metadata": {
        "colab": {
          "base_uri": "https://localhost:8080/"
        },
        "id": "wdlw5wzGE1In",
        "outputId": "a8e7d982-a5a1-46e3-9e3d-379268f40bbc"
      },
      "source": [
        "df.replace('?', np.NaN, inplace = True)\n",
        "\n",
        "print(df.head(3))"
      ],
      "execution_count": null,
      "outputs": [
        {
          "output_type": "stream",
          "text": [
            "   Class  Age  Sex Steroid  ...  SGOT Albumin Prothrombin time Histology\n",
            "0      2   30    2       1  ...    18     4.0              NaN         1\n",
            "1      2   50    1       1  ...    42     3.5              NaN         1\n",
            "2      2   78    1       2  ...    32     4.0              NaN         1\n",
            "\n",
            "[3 rows x 20 columns]\n"
          ],
          "name": "stdout"
        }
      ]
    },
    {
      "cell_type": "code",
      "metadata": {
        "colab": {
          "base_uri": "https://localhost:8080/"
        },
        "id": "v7hQ24qjwGx1",
        "outputId": "1efb0809-f6a5-40ec-9da7-2be40c758a99"
      },
      "source": [
        "print(df.count())\n",
        "88/155"
      ],
      "execution_count": null,
      "outputs": [
        {
          "output_type": "stream",
          "text": [
            "Class                        155\n",
            "Age                          155\n",
            "Sex                          155\n",
            "Steroid                      154\n",
            "Antivirals                   155\n",
            "Fatigue                      154\n",
            "Malaise                      154\n",
            "Anorexia                     154\n",
            "Liver big                    145\n",
            "Liver firm                   144\n",
            "Spleen palpable              150\n",
            "Spiders                      150\n",
            "Ascites                      150\n",
            "Varices                      150\n",
            "Bilirubin                    149\n",
            "Alkaline Phosphatase(ALP)    126\n",
            "SGOT                         151\n",
            "Albumin                      139\n",
            "Prothrombin time              88\n",
            "Histology                    155\n",
            "dtype: int64\n"
          ],
          "name": "stdout"
        },
        {
          "output_type": "execute_result",
          "data": {
            "text/plain": [
              "0.567741935483871"
            ]
          },
          "metadata": {
            "tags": []
          },
          "execution_count": 9
        }
      ]
    },
    {
      "cell_type": "markdown",
      "metadata": {
        "id": "I2oH_Qh5BdMA"
      },
      "source": [
        "Θα μετατρέψω τις numerical μεταβλητές σε float"
      ]
    },
    {
      "cell_type": "code",
      "metadata": {
        "id": "foyrXy8qBd1i"
      },
      "source": [
        "df['Bilirubin'] = df.Bilirubin.astype(float)\n",
        "df['Prothombin time'] = df['Prothrombin time'].astype(float)\n",
        "df[\"Alkaline Phosphatase(ALP)\"] = df[\"Alkaline Phosphatase(ALP)\"].astype(float)\n",
        "df[\"SGOT\"] = df.SGOT.astype(float)\n",
        "df[\"Albumin\"] = df.Albumin.astype(float)"
      ],
      "execution_count": null,
      "outputs": []
    },
    {
      "cell_type": "markdown",
      "metadata": {
        "id": "HfXJ-zRD7DJe"
      },
      "source": [
        "# Διαγραφή Χαρακτηριστικών"
      ]
    },
    {
      "cell_type": "markdown",
      "metadata": {
        "id": "_bHIfuL_wbaB"
      },
      "source": [
        "Όπως καθαρά φαίνεται, για το χαρακτηριστικό Prothrombin time, έχουμε πληροφορίες μόνο στο 56% των instances, επομένως αυτό το χαρακτηριστικό θα το διώξουμε από το data set."
      ]
    },
    {
      "cell_type": "code",
      "metadata": {
        "colab": {
          "base_uri": "https://localhost:8080/"
        },
        "id": "KAIkt2ZHtrDB",
        "outputId": "f6df378b-45e6-45b6-c6bb-080a44dc49d9"
      },
      "source": [
        "del df['Prothrombin time']\n",
        "numericals = ['Age', 'Bilirubin', 'Albumin', 'Alkaline Phosphatase(ALP)', 'SGOT']\n",
        "print(df.count())"
      ],
      "execution_count": null,
      "outputs": [
        {
          "output_type": "stream",
          "text": [
            "Class                        155\n",
            "Age                          155\n",
            "Sex                          155\n",
            "Steroid                      154\n",
            "Antivirals                   155\n",
            "Fatigue                      154\n",
            "Malaise                      154\n",
            "Anorexia                     154\n",
            "Liver big                    145\n",
            "Liver firm                   144\n",
            "Spleen palpable              150\n",
            "Spiders                      150\n",
            "Ascites                      150\n",
            "Varices                      150\n",
            "Bilirubin                    149\n",
            "Alkaline Phosphatase(ALP)    126\n",
            "SGOT                         151\n",
            "Albumin                      139\n",
            "Histology                    155\n",
            "Prothombin time               88\n",
            "dtype: int64\n"
          ],
          "name": "stdout"
        }
      ]
    },
    {
      "cell_type": "code",
      "metadata": {
        "colab": {
          "base_uri": "https://localhost:8080/"
        },
        "id": "Ck-pfutlzb6M",
        "outputId": "bef7fedd-738d-44a3-c712-adc4dd321b42"
      },
      "source": [
        "print(126/155)"
      ],
      "execution_count": null,
      "outputs": [
        {
          "output_type": "stream",
          "text": [
            "0.8129032258064516\n"
          ],
          "name": "stdout"
        }
      ]
    },
    {
      "cell_type": "markdown",
      "metadata": {
        "id": "XIgVMwGY3wRq"
      },
      "source": [
        "Την ίδια διαδικασία θα ακολουθήσουμε και για το χαρακτηριστικό Alkaline Phosphotase(ALP) το οποίο περιέχεται στο 81% των παραδειγμάτων."
      ]
    },
    {
      "cell_type": "code",
      "metadata": {
        "colab": {
          "base_uri": "https://localhost:8080/"
        },
        "id": "Hl-vqSYX39BO",
        "outputId": "5c9e4505-6874-4e8a-f263-915e4a30cbb9"
      },
      "source": [
        "del df['Alkaline Phosphatase(ALP)']\n",
        "numericals = ['Age', 'Bilirubin', 'Albumin', 'SGOT']\n",
        "df.info()"
      ],
      "execution_count": null,
      "outputs": [
        {
          "output_type": "stream",
          "text": [
            "<class 'pandas.core.frame.DataFrame'>\n",
            "RangeIndex: 155 entries, 0 to 154\n",
            "Data columns (total 19 columns):\n",
            " #   Column           Non-Null Count  Dtype  \n",
            "---  ------           --------------  -----  \n",
            " 0   Class            155 non-null    int64  \n",
            " 1   Age              155 non-null    int64  \n",
            " 2   Sex              155 non-null    int64  \n",
            " 3   Steroid          154 non-null    object \n",
            " 4   Antivirals       155 non-null    int64  \n",
            " 5   Fatigue          154 non-null    object \n",
            " 6   Malaise          154 non-null    object \n",
            " 7   Anorexia         154 non-null    object \n",
            " 8   Liver big        145 non-null    object \n",
            " 9   Liver firm       144 non-null    object \n",
            " 10  Spleen palpable  150 non-null    object \n",
            " 11  Spiders          150 non-null    object \n",
            " 12  Ascites          150 non-null    object \n",
            " 13  Varices          150 non-null    object \n",
            " 14  Bilirubin        149 non-null    float64\n",
            " 15  SGOT             151 non-null    float64\n",
            " 16  Albumin          139 non-null    float64\n",
            " 17  Histology        155 non-null    int64  \n",
            " 18  Prothombin time  88 non-null     float64\n",
            "dtypes: float64(4), int64(5), object(10)\n",
            "memory usage: 23.1+ KB\n"
          ],
          "name": "stdout"
        }
      ]
    },
    {
      "cell_type": "markdown",
      "metadata": {
        "id": "MhUHzvBz4JfD"
      },
      "source": [
        "Πλέον έχοντας αφαιρέσει τα attirubtes που μπορούν να προκαλέσουν πρόβλημα, μπορώ να συνεχίσω."
      ]
    },
    {
      "cell_type": "markdown",
      "metadata": {
        "id": "SaHAHLdzGcxw"
      },
      "source": [
        "Θα γεμίσω για τις υπόλειπες numerical μεταβλητες με τους μεσους όρους τους"
      ]
    },
    {
      "cell_type": "code",
      "metadata": {
        "colab": {
          "base_uri": "https://localhost:8080/",
          "height": 235
        },
        "id": "SW92DzRYGbVH",
        "outputId": "23415db6-1b6d-40a3-dfee-89985c11c57c"
      },
      "source": [
        "numericals = ['Age', 'Bilirubin', 'Albumin', 'SGOT']\n",
        "df[numericals].fillna(df[numericals].mean()).head(6)"
      ],
      "execution_count": null,
      "outputs": [
        {
          "output_type": "execute_result",
          "data": {
            "text/html": [
              "<div>\n",
              "<style scoped>\n",
              "    .dataframe tbody tr th:only-of-type {\n",
              "        vertical-align: middle;\n",
              "    }\n",
              "\n",
              "    .dataframe tbody tr th {\n",
              "        vertical-align: top;\n",
              "    }\n",
              "\n",
              "    .dataframe thead th {\n",
              "        text-align: right;\n",
              "    }\n",
              "</style>\n",
              "<table border=\"1\" class=\"dataframe\">\n",
              "  <thead>\n",
              "    <tr style=\"text-align: right;\">\n",
              "      <th></th>\n",
              "      <th>Age</th>\n",
              "      <th>Bilirubin</th>\n",
              "      <th>Albumin</th>\n",
              "      <th>SGOT</th>\n",
              "    </tr>\n",
              "  </thead>\n",
              "  <tbody>\n",
              "    <tr>\n",
              "      <th>0</th>\n",
              "      <td>30</td>\n",
              "      <td>1.0</td>\n",
              "      <td>4.0</td>\n",
              "      <td>18.0</td>\n",
              "    </tr>\n",
              "    <tr>\n",
              "      <th>1</th>\n",
              "      <td>50</td>\n",
              "      <td>0.9</td>\n",
              "      <td>3.5</td>\n",
              "      <td>42.0</td>\n",
              "    </tr>\n",
              "    <tr>\n",
              "      <th>2</th>\n",
              "      <td>78</td>\n",
              "      <td>0.7</td>\n",
              "      <td>4.0</td>\n",
              "      <td>32.0</td>\n",
              "    </tr>\n",
              "    <tr>\n",
              "      <th>3</th>\n",
              "      <td>31</td>\n",
              "      <td>0.7</td>\n",
              "      <td>4.0</td>\n",
              "      <td>52.0</td>\n",
              "    </tr>\n",
              "    <tr>\n",
              "      <th>4</th>\n",
              "      <td>34</td>\n",
              "      <td>1.0</td>\n",
              "      <td>4.0</td>\n",
              "      <td>200.0</td>\n",
              "    </tr>\n",
              "    <tr>\n",
              "      <th>5</th>\n",
              "      <td>34</td>\n",
              "      <td>0.9</td>\n",
              "      <td>4.0</td>\n",
              "      <td>28.0</td>\n",
              "    </tr>\n",
              "  </tbody>\n",
              "</table>\n",
              "</div>"
            ],
            "text/plain": [
              "   Age  Bilirubin  Albumin   SGOT\n",
              "0   30        1.0      4.0   18.0\n",
              "1   50        0.9      3.5   42.0\n",
              "2   78        0.7      4.0   32.0\n",
              "3   31        0.7      4.0   52.0\n",
              "4   34        1.0      4.0  200.0\n",
              "5   34        0.9      4.0   28.0"
            ]
          },
          "metadata": {
            "tags": []
          },
          "execution_count": 14
        }
      ]
    },
    {
      "cell_type": "markdown",
      "metadata": {
        "id": "QmiAneO6HVhH"
      },
      "source": [
        "Όσον αφορά τις κατηγορικές μεταβλτηές, θα συμπληρώσουμε τα κενά με την επικρατέστερη τιμή (αυτή που εμφανίζεται πιο συχνά)"
      ]
    },
    {
      "cell_type": "code",
      "metadata": {
        "id": "WcATFx0MHiX6",
        "colab": {
          "base_uri": "https://localhost:8080/",
          "height": 173
        },
        "outputId": "7ec686ac-a27e-4c93-dd15-3a1508fc4ab3"
      },
      "source": [
        "categoricals = ['Sex', 'Steroid', 'Antivirals', 'Fatigue', 'Malaise', 'Anorexia',\n",
        "              'Liver big', 'Liver firm', 'Spleen palpable', 'Spiders', 'Ascites', 'Varices', 'Histology']\n",
        "colNames = ['Class','Age', 'Sex', 'Steroid', 'Antivirals', 'Fatigue', 'Malaise', \n",
        "               'Anorexia', 'Liver big', 'Liver firm', 'Spleen palpable', 'Spiders',\n",
        "               'Ascites', 'Varices', 'Bilirubin', 'SGOT', 'Albumin', 'Histology' ]\n",
        "df[categoricals].apply(pd.Series.value_counts)"
      ],
      "execution_count": null,
      "outputs": [
        {
          "output_type": "execute_result",
          "data": {
            "text/html": [
              "<div>\n",
              "<style scoped>\n",
              "    .dataframe tbody tr th:only-of-type {\n",
              "        vertical-align: middle;\n",
              "    }\n",
              "\n",
              "    .dataframe tbody tr th {\n",
              "        vertical-align: top;\n",
              "    }\n",
              "\n",
              "    .dataframe thead th {\n",
              "        text-align: right;\n",
              "    }\n",
              "</style>\n",
              "<table border=\"1\" class=\"dataframe\">\n",
              "  <thead>\n",
              "    <tr style=\"text-align: right;\">\n",
              "      <th></th>\n",
              "      <th>Sex</th>\n",
              "      <th>Steroid</th>\n",
              "      <th>Antivirals</th>\n",
              "      <th>Fatigue</th>\n",
              "      <th>Malaise</th>\n",
              "      <th>Anorexia</th>\n",
              "      <th>Liver big</th>\n",
              "      <th>Liver firm</th>\n",
              "      <th>Spleen palpable</th>\n",
              "      <th>Spiders</th>\n",
              "      <th>Ascites</th>\n",
              "      <th>Varices</th>\n",
              "      <th>Histology</th>\n",
              "    </tr>\n",
              "  </thead>\n",
              "  <tbody>\n",
              "    <tr>\n",
              "      <th>1</th>\n",
              "      <td>139.0</td>\n",
              "      <td>NaN</td>\n",
              "      <td>24.0</td>\n",
              "      <td>NaN</td>\n",
              "      <td>NaN</td>\n",
              "      <td>NaN</td>\n",
              "      <td>NaN</td>\n",
              "      <td>NaN</td>\n",
              "      <td>NaN</td>\n",
              "      <td>NaN</td>\n",
              "      <td>NaN</td>\n",
              "      <td>NaN</td>\n",
              "      <td>85.0</td>\n",
              "    </tr>\n",
              "    <tr>\n",
              "      <th>2</th>\n",
              "      <td>16.0</td>\n",
              "      <td>NaN</td>\n",
              "      <td>131.0</td>\n",
              "      <td>NaN</td>\n",
              "      <td>NaN</td>\n",
              "      <td>NaN</td>\n",
              "      <td>NaN</td>\n",
              "      <td>NaN</td>\n",
              "      <td>NaN</td>\n",
              "      <td>NaN</td>\n",
              "      <td>NaN</td>\n",
              "      <td>NaN</td>\n",
              "      <td>70.0</td>\n",
              "    </tr>\n",
              "    <tr>\n",
              "      <th>1</th>\n",
              "      <td>NaN</td>\n",
              "      <td>76.0</td>\n",
              "      <td>NaN</td>\n",
              "      <td>100.0</td>\n",
              "      <td>61.0</td>\n",
              "      <td>32.0</td>\n",
              "      <td>25.0</td>\n",
              "      <td>60.0</td>\n",
              "      <td>30.0</td>\n",
              "      <td>51.0</td>\n",
              "      <td>20.0</td>\n",
              "      <td>18.0</td>\n",
              "      <td>NaN</td>\n",
              "    </tr>\n",
              "    <tr>\n",
              "      <th>2</th>\n",
              "      <td>NaN</td>\n",
              "      <td>78.0</td>\n",
              "      <td>NaN</td>\n",
              "      <td>54.0</td>\n",
              "      <td>93.0</td>\n",
              "      <td>122.0</td>\n",
              "      <td>120.0</td>\n",
              "      <td>84.0</td>\n",
              "      <td>120.0</td>\n",
              "      <td>99.0</td>\n",
              "      <td>130.0</td>\n",
              "      <td>132.0</td>\n",
              "      <td>NaN</td>\n",
              "    </tr>\n",
              "  </tbody>\n",
              "</table>\n",
              "</div>"
            ],
            "text/plain": [
              "     Sex  Steroid  Antivirals  Fatigue  ...  Spiders  Ascites  Varices  Histology\n",
              "1  139.0      NaN        24.0      NaN  ...      NaN      NaN      NaN       85.0\n",
              "2   16.0      NaN       131.0      NaN  ...      NaN      NaN      NaN       70.0\n",
              "1    NaN     76.0         NaN    100.0  ...     51.0     20.0     18.0        NaN\n",
              "2    NaN     78.0         NaN     54.0  ...     99.0    130.0    132.0        NaN\n",
              "\n",
              "[4 rows x 13 columns]"
            ]
          },
          "metadata": {
            "tags": []
          },
          "execution_count": 15
        }
      ]
    },
    {
      "cell_type": "code",
      "metadata": {
        "colab": {
          "base_uri": "https://localhost:8080/"
        },
        "id": "MRuu1CJ9Ch7P",
        "outputId": "217f9db3-1919-4f58-806d-c99be4c80e2d"
      },
      "source": [
        "result = df.fillna(df.mode().iloc[0])\n",
        "imputedDF = result\n",
        "print(imputedDF)"
      ],
      "execution_count": null,
      "outputs": [
        {
          "output_type": "stream",
          "text": [
            "     Class  Age  Sex Steroid  ...   SGOT Albumin Histology Prothombin time\n",
            "0        2   30    2       1  ...   18.0     4.0         1           100.0\n",
            "1        2   50    1       1  ...   42.0     3.5         1           100.0\n",
            "2        2   78    1       2  ...   32.0     4.0         1           100.0\n",
            "3        2   31    1       2  ...   52.0     4.0         1            80.0\n",
            "4        2   34    1       2  ...  200.0     4.0         1           100.0\n",
            "..     ...  ...  ...     ...  ...    ...     ...       ...             ...\n",
            "150      1   46    1       2  ...  242.0     3.3         2            50.0\n",
            "151      2   44    1       2  ...  142.0     4.3         2           100.0\n",
            "152      2   61    1       1  ...   20.0     4.1         2           100.0\n",
            "153      2   53    2       1  ...   19.0     4.1         2            48.0\n",
            "154      1   43    1       2  ...   19.0     3.1         2            42.0\n",
            "\n",
            "[155 rows x 19 columns]\n"
          ],
          "name": "stdout"
        }
      ]
    },
    {
      "cell_type": "code",
      "metadata": {
        "id": "0HSw342uigzK"
      },
      "source": [
        "imputedDF[\"Class\"] = imputedDF[\"Class\"].astype(int)"
      ],
      "execution_count": null,
      "outputs": []
    },
    {
      "cell_type": "code",
      "metadata": {
        "colab": {
          "base_uri": "https://localhost:8080/",
          "height": 301
        },
        "id": "ua32b11ji_py",
        "outputId": "29a8699a-64ee-4f45-f6b1-64e105fb3797"
      },
      "source": [
        "class_count=sns.countplot(x=\"Class\", data=imputedDF)\n",
        "plt.gca().set_xticklabels(['Death','Alive']);\n",
        "class_count.set_title(\"Count of Outcome\")\n",
        "class_count.figure.savefig('class_count.png')"
      ],
      "execution_count": null,
      "outputs": [
        {
          "output_type": "display_data",
          "data": {
            "image/png": "[encoded data removed]",
            "text/plain": [
              "<Figure size 432x288 with 1 Axes>"
            ]
          },
          "metadata": {
            "tags": []
          }
        }
      ]
    },
    {
      "cell_type": "markdown",
      "metadata": {
        "id": "IQ0bOrniCp3W"
      },
      "source": [
        "# Κανονικοποίηση"
      ]
    },
    {
      "cell_type": "code",
      "metadata": {
        "id": "n8IIOgFNx4xK"
      },
      "source": [
        ""
      ],
      "execution_count": null,
      "outputs": []
    },
    {
      "cell_type": "code",
      "metadata": {
        "colab": {
          "base_uri": "https://localhost:8080/"
        },
        "id": "W1OLjxz1ArEo",
        "outputId": "49ff13a2-9d92-42ac-c437-2f9dcd582213"
      },
      "source": [
        "print(imputedDF.describe())\n",
        "imputedDF.to_csv (r\"/content/drive/MyDrive/Νευρωνικά δίκτυα εργασία 2/inputedDataSet\", index = True)"
      ],
      "execution_count": null,
      "outputs": [
        {
          "output_type": "stream",
          "text": [
            "            Class         Age  ...   Histology  Prothombin time\n",
            "count  155.000000  155.000000  ...  155.000000       155.000000\n",
            "mean     1.793548   41.200000  ...    1.451613        78.341935\n",
            "std      0.406070   12.565878  ...    0.499266        25.594348\n",
            "min      1.000000    7.000000  ...    1.000000         0.000000\n",
            "25%      2.000000   32.000000  ...    1.000000        57.000000\n",
            "50%      2.000000   39.000000  ...    1.000000       100.000000\n",
            "75%      2.000000   50.000000  ...    2.000000       100.000000\n",
            "max      2.000000   78.000000  ...    2.000000       100.000000\n",
            "\n",
            "[8 rows x 9 columns]\n"
          ],
          "name": "stdout"
        }
      ]
    },
    {
      "cell_type": "markdown",
      "metadata": {
        "id": "oiA6aIt185c9"
      },
      "source": [
        "Πρώτα ανακατεύω τα δεδομένα"
      ]
    },
    {
      "cell_type": "code",
      "metadata": {
        "id": "nC-GGCx1HWkD"
      },
      "source": [
        "imputedDF = imputedDF.sample(frac = 1)"
      ],
      "execution_count": null,
      "outputs": []
    },
    {
      "cell_type": "markdown",
      "metadata": {
        "id": "x261V5O4z0iL"
      },
      "source": [
        "Και έπειτα τα κανονικοποιώ."
      ]
    },
    {
      "cell_type": "code",
      "metadata": {
        "id": "fuYFBIabAJWV"
      },
      "source": [
        "X = imputedDF.iloc[:,1:]\n",
        "y = imputedDF.iloc[:,:1]\n",
        "\n",
        "from sklearn.model_selection import train_test_split\n",
        "X_train, X_test, Y_train, Y_test = train_test_split(X, y)\n",
        "\n",
        "from sklearn.preprocessing import StandardScaler\n",
        "scaler = StandardScaler()\n",
        "\n",
        "#fitting only to training data\n",
        "scaler.fit(X_train)\n",
        "\n",
        "#Now apply transformation to data\n",
        "X_train = scaler.transform(X_train)\n",
        "X_test = scaler.transform(X_test)"
      ],
      "execution_count": null,
      "outputs": []
    },
    {
      "cell_type": "code",
      "metadata": {
        "colab": {
          "base_uri": "https://localhost:8080/"
        },
        "id": "C0uplHiJ4suL",
        "outputId": "4ccfa1e5-9e47-4c76-a8bb-3a3d67439663"
      },
      "source": [
        "X_train.shape"
      ],
      "execution_count": null,
      "outputs": [
        {
          "output_type": "execute_result",
          "data": {
            "text/plain": [
              "(116, 18)"
            ]
          },
          "metadata": {
            "tags": []
          },
          "execution_count": 22
        }
      ]
    },
    {
      "cell_type": "code",
      "metadata": {
        "colab": {
          "base_uri": "https://localhost:8080/"
        },
        "id": "hwhsMDzd4tGO",
        "outputId": "67b061f0-9d2a-4b16-cde8-6992db296e03"
      },
      "source": [
        "print(Y_train)"
      ],
      "execution_count": null,
      "outputs": [
        {
          "output_type": "stream",
          "text": [
            "     Class\n",
            "131      1\n",
            "127      1\n",
            "145      2\n",
            "107      2\n",
            "106      1\n",
            "..     ...\n",
            "40       2\n",
            "138      1\n",
            "105      2\n",
            "53       2\n",
            "17       2\n",
            "\n",
            "[116 rows x 1 columns]\n"
          ],
          "name": "stdout"
        }
      ]
    },
    {
      "cell_type": "markdown",
      "metadata": {
        "id": "J7bqnutG9XkB"
      },
      "source": [
        "#Δημιουργία Μοντέλου"
      ]
    },
    {
      "cell_type": "markdown",
      "metadata": {
        "id": "bXCQXtc6AzTY"
      },
      "source": [
        "Θα γίνει χρήση του MLP (multilayer Percepton) της βιβλιοθήκης scikit learn neural network ο οποίος χρησιμοποιεί back-propaggation.\n",
        "Θα κατασκευάσω 3 μοντέλα τα οποία θα έχουν σαν συναρτηση ενεργοποίησης την relu. Στο κάθε μοντέλο θα χρησιμοποιήσω σαν solver βελτιστοποίησης βαρών τις μεθόδους sgd (stochastic gradient descend) , adam (adapative momentum) και lbfgs. Η adam δουλεύει καλύτερα σε μεγάλα πακέτα δεδομένων ενώ η lbfgs σε μικρά, όπως αυτό εδώ."
      ]
    },
    {
      "cell_type": "code",
      "metadata": {
        "colab": {
          "base_uri": "https://localhost:8080/"
        },
        "id": "dWxsGeGk9cx4",
        "outputId": "4b9b9dd7-111e-4cb1-e339-f2aacbc658e9"
      },
      "source": [
        "from sklearn.neural_network import MLPClassifier\n",
        "mlp1 = MLPClassifier(hidden_layer_sizes=(20), activation='relu', solver = 'sgd', tol = 0.001, verbose= True, momentum=1)\n",
        "mlp1.fit(X_train, Y_train)"
      ],
      "execution_count": null,
      "outputs": [
        {
          "output_type": "stream",
          "text": [
            "Iteration 1, loss = 0.72861382\n",
            "Iteration 2, loss = 0.72758625\n",
            "Iteration 3, loss = 0.72604963\n",
            "Iteration 4, loss = 0.72400840\n",
            "Iteration 5, loss = 0.72146920\n",
            "Iteration 6, loss = 0.71844416\n",
            "Iteration 7, loss = 0.71495814\n",
            "Iteration 8, loss = 0.71100933\n",
            "Iteration 9, loss = 0.70661330\n",
            "Iteration 10, loss = 0.70180650\n",
            "Iteration 11, loss = 0.69658213\n",
            "Iteration 12, loss = 0.69096016\n",
            "Iteration 13, loss = 0.68495717\n",
            "Iteration 14, loss = 0.67858577\n",
            "Iteration 15, loss = 0.67185288\n",
            "Iteration 16, loss = 0.66479027\n",
            "Iteration 17, loss = 0.65741843\n",
            "Iteration 18, loss = 0.64976386\n",
            "Iteration 19, loss = 0.64184964\n",
            "Iteration 20, loss = 0.63371621\n",
            "Iteration 21, loss = 0.62539611\n",
            "Iteration 22, loss = 0.61690694\n",
            "Iteration 23, loss = 0.60825352\n",
            "Iteration 24, loss = 0.59949400\n",
            "Iteration 25, loss = 0.59067594\n",
            "Iteration 26, loss = 0.58179895\n",
            "Iteration 27, loss = 0.57288293\n",
            "Iteration 28, loss = 0.56397594\n",
            "Iteration 29, loss = 0.55511135\n",
            "Iteration 30, loss = 0.54630932\n",
            "Iteration 31, loss = 0.53757706\n",
            "Iteration 32, loss = 0.52895942\n",
            "Iteration 33, loss = 0.52048981\n",
            "Iteration 34, loss = 0.51215493\n",
            "Iteration 35, loss = 0.50398898\n",
            "Iteration 36, loss = 0.49601255\n",
            "Iteration 37, loss = 0.48823312\n",
            "Iteration 38, loss = 0.48065734\n",
            "Iteration 39, loss = 0.47327850\n",
            "Iteration 40, loss = 0.46608221\n",
            "Iteration 41, loss = 0.45906336\n",
            "Iteration 42, loss = 0.45225738\n",
            "Iteration 43, loss = 0.44569211\n",
            "Iteration 44, loss = 0.43935900\n",
            "Iteration 45, loss = 0.43324974\n",
            "Iteration 46, loss = 0.42735707\n",
            "Iteration 47, loss = 0.42169869\n",
            "Iteration 48, loss = 0.41626305\n",
            "Iteration 49, loss = 0.41100784\n",
            "Iteration 50, loss = 0.40594677\n",
            "Iteration 51, loss = 0.40102795\n",
            "Iteration 52, loss = 0.39627991\n",
            "Iteration 53, loss = 0.39173294\n",
            "Iteration 54, loss = 0.38740228\n",
            "Iteration 55, loss = 0.38324086\n",
            "Iteration 56, loss = 0.37923415\n",
            "Iteration 57, loss = 0.37539395\n",
            "Iteration 58, loss = 0.37170619\n",
            "Iteration 59, loss = 0.36818613\n",
            "Iteration 60, loss = 0.36481384\n",
            "Iteration 61, loss = 0.36160264\n",
            "Iteration 62, loss = 0.35852619\n",
            "Iteration 63, loss = 0.35557491\n",
            "Iteration 64, loss = 0.35272115\n",
            "Iteration 65, loss = 0.34993310\n",
            "Iteration 66, loss = 0.34724639\n",
            "Iteration 67, loss = 0.34466941\n",
            "Iteration 68, loss = 0.34218884\n",
            "Iteration 69, loss = 0.33978188\n",
            "Iteration 70, loss = 0.33736744\n",
            "Iteration 71, loss = 0.33497973\n",
            "Iteration 72, loss = 0.33266140\n",
            "Iteration 73, loss = 0.33037642\n",
            "Iteration 74, loss = 0.32812907\n",
            "Iteration 75, loss = 0.32592443\n",
            "Iteration 76, loss = 0.32377263\n",
            "Iteration 77, loss = 0.32167939\n",
            "Iteration 78, loss = 0.31965289\n",
            "Iteration 79, loss = 0.31767540\n",
            "Iteration 80, loss = 0.31574837\n",
            "Iteration 81, loss = 0.31387533\n",
            "Iteration 82, loss = 0.31206507\n",
            "Iteration 83, loss = 0.31031358\n",
            "Iteration 84, loss = 0.30861365\n",
            "Iteration 85, loss = 0.30697414\n",
            "Iteration 86, loss = 0.30542362\n",
            "Iteration 87, loss = 0.30391461\n",
            "Iteration 88, loss = 0.30244449\n",
            "Iteration 89, loss = 0.30101522\n",
            "Iteration 90, loss = 0.29962297\n",
            "Iteration 91, loss = 0.29827033\n",
            "Iteration 92, loss = 0.29696329\n",
            "Iteration 93, loss = 0.29569220\n",
            "Iteration 94, loss = 0.29442921\n",
            "Iteration 95, loss = 0.29317517\n",
            "Iteration 96, loss = 0.29195214\n",
            "Iteration 97, loss = 0.29075846\n",
            "Iteration 98, loss = 0.28959100\n",
            "Iteration 99, loss = 0.28845314\n",
            "Iteration 100, loss = 0.28735943\n",
            "Iteration 101, loss = 0.28627220\n",
            "Iteration 102, loss = 0.28523249\n",
            "Iteration 103, loss = 0.28424450\n",
            "Iteration 104, loss = 0.28331146\n",
            "Iteration 105, loss = 0.28240885\n",
            "Iteration 106, loss = 0.28154171\n",
            "Iteration 107, loss = 0.28073525\n",
            "Iteration 108, loss = 0.27997879\n",
            "Iteration 109, loss = 0.27926078\n",
            "Iteration 110, loss = 0.27858029\n",
            "Iteration 111, loss = 0.27800034\n",
            "Iteration 112, loss = 0.27746980\n",
            "Iteration 113, loss = 0.27696566\n",
            "Training loss did not improve more than tol=0.001000 for 10 consecutive epochs. Stopping.\n"
          ],
          "name": "stdout"
        },
        {
          "output_type": "stream",
          "text": [
            "/usr/local/lib/python3.7/dist-packages/sklearn/neural_network/_multilayer_perceptron.py:934: DataConversionWarning: A column-vector y was passed when a 1d array was expected. Please change the shape of y to (n_samples, ), for example using ravel().\n",
            "  y = column_or_1d(y, warn=True)\n"
          ],
          "name": "stderr"
        },
        {
          "output_type": "execute_result",
          "data": {
            "text/plain": [
              "MLPClassifier(activation='relu', alpha=0.0001, batch_size='auto', beta_1=0.9,\n",
              "              beta_2=0.999, early_stopping=False, epsilon=1e-08,\n",
              "              hidden_layer_sizes=20, learning_rate='constant',\n",
              "              learning_rate_init=0.001, max_fun=15000, max_iter=200, momentum=1,\n",
              "              n_iter_no_change=10, nesterovs_momentum=True, power_t=0.5,\n",
              "              random_state=None, shuffle=True, solver='sgd', tol=0.001,\n",
              "              validation_fraction=0.1, verbose=True, warm_start=False)"
            ]
          },
          "metadata": {
            "tags": []
          },
          "execution_count": 24
        }
      ]
    },
    {
      "cell_type": "code",
      "metadata": {
        "colab": {
          "base_uri": "https://localhost:8080/"
        },
        "id": "Hly8X3bgJiNC",
        "outputId": "45ddced7-3401-40cc-b8bc-da3c1976b69b"
      },
      "source": [
        "mlp2 = MLPClassifier(hidden_layer_sizes = 20,activation = 'relu', solver = 'adam', tol = 0.001, verbose = True)\n",
        "mlp2.fit(X_train, Y_train)"
      ],
      "execution_count": null,
      "outputs": [
        {
          "output_type": "stream",
          "text": [
            "/usr/local/lib/python3.7/dist-packages/sklearn/neural_network/_multilayer_perceptron.py:934: DataConversionWarning: A column-vector y was passed when a 1d array was expected. Please change the shape of y to (n_samples, ), for example using ravel().\n",
            "  y = column_or_1d(y, warn=True)\n"
          ],
          "name": "stderr"
        },
        {
          "output_type": "stream",
          "text": [
            "Iteration 1, loss = 0.78268995\n",
            "Iteration 2, loss = 0.77399110\n",
            "Iteration 3, loss = 0.76539244\n",
            "Iteration 4, loss = 0.75689711\n",
            "Iteration 5, loss = 0.74850886\n",
            "Iteration 6, loss = 0.74023186\n",
            "Iteration 7, loss = 0.73204638\n",
            "Iteration 8, loss = 0.72395671\n",
            "Iteration 9, loss = 0.71598734\n",
            "Iteration 10, loss = 0.70813027\n",
            "Iteration 11, loss = 0.70037747\n",
            "Iteration 12, loss = 0.69272572\n",
            "Iteration 13, loss = 0.68517065\n",
            "Iteration 14, loss = 0.67772655\n",
            "Iteration 15, loss = 0.67039848\n",
            "Iteration 16, loss = 0.66317882\n",
            "Iteration 17, loss = 0.65605936\n",
            "Iteration 18, loss = 0.64904657\n",
            "Iteration 19, loss = 0.64214177\n",
            "Iteration 20, loss = 0.63534320\n",
            "Iteration 21, loss = 0.62864177\n",
            "Iteration 22, loss = 0.62205850\n",
            "Iteration 23, loss = 0.61558001\n",
            "Iteration 24, loss = 0.60920420\n",
            "Iteration 25, loss = 0.60293028\n",
            "Iteration 26, loss = 0.59675365\n",
            "Iteration 27, loss = 0.59067282\n",
            "Iteration 28, loss = 0.58469335\n",
            "Iteration 29, loss = 0.57881188\n",
            "Iteration 30, loss = 0.57302871\n",
            "Iteration 31, loss = 0.56735757\n",
            "Iteration 32, loss = 0.56179665\n",
            "Iteration 33, loss = 0.55632822\n",
            "Iteration 34, loss = 0.55095036\n",
            "Iteration 35, loss = 0.54566425\n",
            "Iteration 36, loss = 0.54047536\n",
            "Iteration 37, loss = 0.53538973\n",
            "Iteration 38, loss = 0.53039660\n",
            "Iteration 39, loss = 0.52548510\n",
            "Iteration 40, loss = 0.52065394\n",
            "Iteration 41, loss = 0.51590571\n",
            "Iteration 42, loss = 0.51124169\n",
            "Iteration 43, loss = 0.50666724\n",
            "Iteration 44, loss = 0.50216247\n",
            "Iteration 45, loss = 0.49773254\n",
            "Iteration 46, loss = 0.49337883\n",
            "Iteration 47, loss = 0.48909647\n",
            "Iteration 48, loss = 0.48488670\n",
            "Iteration 49, loss = 0.48074886\n",
            "Iteration 50, loss = 0.47667653\n",
            "Iteration 51, loss = 0.47266674\n",
            "Iteration 52, loss = 0.46872473\n",
            "Iteration 53, loss = 0.46484329\n",
            "Iteration 54, loss = 0.46102052\n",
            "Iteration 55, loss = 0.45726002\n",
            "Iteration 56, loss = 0.45354290\n",
            "Iteration 57, loss = 0.44988768\n",
            "Iteration 58, loss = 0.44629729\n",
            "Iteration 59, loss = 0.44276641\n",
            "Iteration 60, loss = 0.43929229\n",
            "Iteration 61, loss = 0.43587276\n",
            "Iteration 62, loss = 0.43251225\n",
            "Iteration 63, loss = 0.42920726\n",
            "Iteration 64, loss = 0.42596872\n",
            "Iteration 65, loss = 0.42277900\n",
            "Iteration 66, loss = 0.41964200\n",
            "Iteration 67, loss = 0.41655636\n",
            "Iteration 68, loss = 0.41351380\n",
            "Iteration 69, loss = 0.41051586\n",
            "Iteration 70, loss = 0.40756631\n",
            "Iteration 71, loss = 0.40466717\n",
            "Iteration 72, loss = 0.40181224\n",
            "Iteration 73, loss = 0.39900238\n",
            "Iteration 74, loss = 0.39624879\n",
            "Iteration 75, loss = 0.39354295\n",
            "Iteration 76, loss = 0.39087519\n",
            "Iteration 77, loss = 0.38825135\n",
            "Iteration 78, loss = 0.38566177\n",
            "Iteration 79, loss = 0.38311223\n",
            "Iteration 80, loss = 0.38059959\n",
            "Iteration 81, loss = 0.37812106\n",
            "Iteration 82, loss = 0.37567558\n",
            "Iteration 83, loss = 0.37326553\n",
            "Iteration 84, loss = 0.37089669\n",
            "Iteration 85, loss = 0.36856371\n",
            "Iteration 86, loss = 0.36626749\n",
            "Iteration 87, loss = 0.36401031\n",
            "Iteration 88, loss = 0.36178157\n",
            "Iteration 89, loss = 0.35958161\n",
            "Iteration 90, loss = 0.35740953\n",
            "Iteration 91, loss = 0.35526599\n",
            "Iteration 92, loss = 0.35315535\n",
            "Iteration 93, loss = 0.35107426\n",
            "Iteration 94, loss = 0.34902709\n",
            "Iteration 95, loss = 0.34701280\n",
            "Iteration 96, loss = 0.34502287\n",
            "Iteration 97, loss = 0.34306491\n",
            "Iteration 98, loss = 0.34113109\n",
            "Iteration 99, loss = 0.33922002\n",
            "Iteration 100, loss = 0.33732632\n",
            "Iteration 101, loss = 0.33545740\n",
            "Iteration 102, loss = 0.33361387\n",
            "Iteration 103, loss = 0.33179213\n",
            "Iteration 104, loss = 0.32999240\n",
            "Iteration 105, loss = 0.32821413\n",
            "Iteration 106, loss = 0.32645671\n",
            "Iteration 107, loss = 0.32473580\n",
            "Iteration 108, loss = 0.32304177\n",
            "Iteration 109, loss = 0.32136189\n",
            "Iteration 110, loss = 0.31969658\n",
            "Iteration 111, loss = 0.31805500\n",
            "Iteration 112, loss = 0.31643750\n",
            "Iteration 113, loss = 0.31484198\n",
            "Iteration 114, loss = 0.31327202\n",
            "Iteration 115, loss = 0.31172026\n",
            "Iteration 116, loss = 0.31018437\n",
            "Iteration 117, loss = 0.30867659\n",
            "Iteration 118, loss = 0.30718751\n",
            "Iteration 119, loss = 0.30571282\n",
            "Iteration 120, loss = 0.30425167\n",
            "Iteration 121, loss = 0.30280531\n",
            "Iteration 122, loss = 0.30137191\n",
            "Iteration 123, loss = 0.29995147\n",
            "Iteration 124, loss = 0.29855650\n",
            "Iteration 125, loss = 0.29718586\n",
            "Iteration 126, loss = 0.29583911\n",
            "Iteration 127, loss = 0.29450450\n",
            "Iteration 128, loss = 0.29318366\n",
            "Iteration 129, loss = 0.29187600\n",
            "Iteration 130, loss = 0.29058194\n",
            "Iteration 131, loss = 0.28930141\n",
            "Iteration 132, loss = 0.28803809\n",
            "Iteration 133, loss = 0.28679210\n",
            "Iteration 134, loss = 0.28555739\n",
            "Iteration 135, loss = 0.28433666\n",
            "Iteration 136, loss = 0.28312643\n",
            "Iteration 137, loss = 0.28192906\n",
            "Iteration 138, loss = 0.28075436\n",
            "Iteration 139, loss = 0.27959297\n",
            "Iteration 140, loss = 0.27843991\n",
            "Iteration 141, loss = 0.27729480\n",
            "Iteration 142, loss = 0.27616061\n",
            "Iteration 143, loss = 0.27504166\n",
            "Iteration 144, loss = 0.27393236\n",
            "Iteration 145, loss = 0.27284067\n",
            "Iteration 146, loss = 0.27176114\n",
            "Iteration 147, loss = 0.27069799\n",
            "Iteration 148, loss = 0.26965202\n",
            "Iteration 149, loss = 0.26861243\n",
            "Iteration 150, loss = 0.26757995\n",
            "Iteration 151, loss = 0.26655517\n",
            "Iteration 152, loss = 0.26553907\n",
            "Iteration 153, loss = 0.26454770\n",
            "Iteration 154, loss = 0.26356264\n",
            "Iteration 155, loss = 0.26258233\n",
            "Iteration 156, loss = 0.26161163\n",
            "Iteration 157, loss = 0.26065161\n",
            "Iteration 158, loss = 0.25969956\n",
            "Iteration 159, loss = 0.25876303\n",
            "Iteration 160, loss = 0.25783415\n",
            "Iteration 161, loss = 0.25691041\n",
            "Iteration 162, loss = 0.25599179\n",
            "Iteration 163, loss = 0.25507891\n",
            "Training loss did not improve more than tol=0.001000 for 10 consecutive epochs. Stopping.\n"
          ],
          "name": "stdout"
        },
        {
          "output_type": "execute_result",
          "data": {
            "text/plain": [
              "MLPClassifier(activation='relu', alpha=0.0001, batch_size='auto', beta_1=0.9,\n",
              "              beta_2=0.999, early_stopping=False, epsilon=1e-08,\n",
              "              hidden_layer_sizes=20, learning_rate='constant',\n",
              "              learning_rate_init=0.001, max_fun=15000, max_iter=200,\n",
              "              momentum=0.9, n_iter_no_change=10, nesterovs_momentum=True,\n",
              "              power_t=0.5, random_state=None, shuffle=True, solver='adam',\n",
              "              tol=0.001, validation_fraction=0.1, verbose=True,\n",
              "              warm_start=False)"
            ]
          },
          "metadata": {
            "tags": []
          },
          "execution_count": 25
        }
      ]
    },
    {
      "cell_type": "code",
      "metadata": {
        "colab": {
          "base_uri": "https://localhost:8080/"
        },
        "id": "05nfpWSfJq5G",
        "outputId": "c3b766d9-a312-45f0-88f9-d2e645833267"
      },
      "source": [
        "mlp3 = MLPClassifier(hidden_layer_sizes = 10,activation = 'relu', solver = 'lbfgs', tol = 0.001)\n",
        "mlp3.fit(X_train, Y_train)"
      ],
      "execution_count": null,
      "outputs": [
        {
          "output_type": "stream",
          "text": [
            "/usr/local/lib/python3.7/dist-packages/sklearn/neural_network/_multilayer_perceptron.py:934: DataConversionWarning: A column-vector y was passed when a 1d array was expected. Please change the shape of y to (n_samples, ), for example using ravel().\n",
            "  y = column_or_1d(y, warn=True)\n"
          ],
          "name": "stderr"
        },
        {
          "output_type": "execute_result",
          "data": {
            "text/plain": [
              "MLPClassifier(activation='relu', alpha=0.0001, batch_size='auto', beta_1=0.9,\n",
              "              beta_2=0.999, early_stopping=False, epsilon=1e-08,\n",
              "              hidden_layer_sizes=10, learning_rate='constant',\n",
              "              learning_rate_init=0.001, max_fun=15000, max_iter=200,\n",
              "              momentum=0.9, n_iter_no_change=10, nesterovs_momentum=True,\n",
              "              power_t=0.5, random_state=None, shuffle=True, solver='lbfgs',\n",
              "              tol=0.001, validation_fraction=0.1, verbose=False,\n",
              "              warm_start=False)"
            ]
          },
          "metadata": {
            "tags": []
          },
          "execution_count": 26
        }
      ]
    },
    {
      "cell_type": "code",
      "metadata": {
        "id": "0fj1BA78BoFB"
      },
      "source": [
        "#predicting test data using the 3 models\n",
        "predictions1 = mlp1.predict(X_test)\n",
        "predictions2 = mlp2.predict(X_test)\n",
        "predictions3 = mlp3.predict(X_test)"
      ],
      "execution_count": null,
      "outputs": []
    },
    {
      "cell_type": "markdown",
      "metadata": {
        "id": "wRoGHwt7KOp4"
      },
      "source": [
        "Ελέγχω την ακρίβεια του μοντέλου"
      ]
    },
    {
      "cell_type": "code",
      "metadata": {
        "colab": {
          "base_uri": "https://localhost:8080/"
        },
        "id": "wpFut9HoBsuP",
        "outputId": "916b605c-c4db-4a8e-990e-efdc8abcffb0"
      },
      "source": [
        "#1st model\n",
        "from sklearn.metrics import classification_report,confusion_matrix\n",
        "print(confusion_matrix(Y_test,predictions1))\n",
        "print(classification_report(Y_test,predictions1))"
      ],
      "execution_count": null,
      "outputs": [
        {
          "output_type": "stream",
          "text": [
            "[[ 6  3]\n",
            " [ 3 27]]\n",
            "              precision    recall  f1-score   support\n",
            "\n",
            "           1       0.67      0.67      0.67         9\n",
            "           2       0.90      0.90      0.90        30\n",
            "\n",
            "    accuracy                           0.85        39\n",
            "   macro avg       0.78      0.78      0.78        39\n",
            "weighted avg       0.85      0.85      0.85        39\n",
            "\n"
          ],
          "name": "stdout"
        }
      ]
    },
    {
      "cell_type": "code",
      "metadata": {
        "colab": {
          "base_uri": "https://localhost:8080/"
        },
        "id": "YL8Wpnx1KWSN",
        "outputId": "eafb7a00-7596-4481-c47a-c07e7c3adc21"
      },
      "source": [
        "#2nd model\n",
        "print(confusion_matrix(Y_test,predictions2))\n",
        "print(classification_report(Y_test,predictions2))"
      ],
      "execution_count": null,
      "outputs": [
        {
          "output_type": "stream",
          "text": [
            "[[ 6  3]\n",
            " [ 4 26]]\n",
            "              precision    recall  f1-score   support\n",
            "\n",
            "           1       0.60      0.67      0.63         9\n",
            "           2       0.90      0.87      0.88        30\n",
            "\n",
            "    accuracy                           0.82        39\n",
            "   macro avg       0.75      0.77      0.76        39\n",
            "weighted avg       0.83      0.82      0.82        39\n",
            "\n"
          ],
          "name": "stdout"
        }
      ]
    },
    {
      "cell_type": "code",
      "metadata": {
        "colab": {
          "base_uri": "https://localhost:8080/"
        },
        "id": "Jq3GeqCEKXld",
        "outputId": "2754ee25-c046-4abe-8858-be6824f109fb"
      },
      "source": [
        "#3rd model\n",
        "print(confusion_matrix(Y_test,predictions3))\n",
        "print(classification_report(Y_test,predictions3))"
      ],
      "execution_count": null,
      "outputs": [
        {
          "output_type": "stream",
          "text": [
            "[[ 4  5]\n",
            " [ 5 25]]\n",
            "              precision    recall  f1-score   support\n",
            "\n",
            "           1       0.44      0.44      0.44         9\n",
            "           2       0.83      0.83      0.83        30\n",
            "\n",
            "    accuracy                           0.74        39\n",
            "   macro avg       0.64      0.64      0.64        39\n",
            "weighted avg       0.74      0.74      0.74        39\n",
            "\n"
          ],
          "name": "stdout"
        }
      ]
    },
    {
      "cell_type": "code",
      "metadata": {
        "colab": {
          "base_uri": "https://localhost:8080/"
        },
        "id": "Qf-KAU-qKsAs",
        "outputId": "2c4962a7-4a2b-4f6c-8a26-eb2a4f61ad34"
      },
      "source": [
        "from sklearn.metrics import accuracy_score\n",
        "print(\"1st model achieves \",accuracy_score(Y_test,predictions1)*100,\"% accuracy\")"
      ],
      "execution_count": null,
      "outputs": [
        {
          "output_type": "stream",
          "text": [
            "1st model achieves  84.61538461538461 % accuracy\n"
          ],
          "name": "stdout"
        }
      ]
    },
    {
      "cell_type": "code",
      "metadata": {
        "colab": {
          "base_uri": "https://localhost:8080/"
        },
        "id": "Z85QBqt0Bxbe",
        "outputId": "f554768b-a9d8-4956-bfaa-96e344e9a972"
      },
      "source": [
        "print(\"2nd model achieves \",accuracy_score(Y_test,predictions2)*100,\"% accuracy\")"
      ],
      "execution_count": null,
      "outputs": [
        {
          "output_type": "stream",
          "text": [
            "2nd model achieves  82.05128205128204 % accuracy\n"
          ],
          "name": "stdout"
        }
      ]
    },
    {
      "cell_type": "code",
      "metadata": {
        "id": "TPh9DetaBxrb",
        "colab": {
          "base_uri": "https://localhost:8080/"
        },
        "outputId": "c4f21e60-c57a-4235-bad3-ba89740c6c65"
      },
      "source": [
        "print(\"3rd model achieves \",accuracy_score(Y_test,predictions3)*100,\"% accuracy\")"
      ],
      "execution_count": null,
      "outputs": [
        {
          "output_type": "stream",
          "text": [
            "3rd model achieves  74.35897435897436 % accuracy\n"
          ],
          "name": "stdout"
        }
      ]
    }
  ]
}